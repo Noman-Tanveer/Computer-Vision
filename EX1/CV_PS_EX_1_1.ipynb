{
 "cells": [
  {
   "cell_type": "code",
   "execution_count": 199,
   "metadata": {},
   "outputs": [
    {
     "data": {
      "image/png": "[encoded data removed]",
      "text/plain": [
       "<matplotlib.figure.Figure at 0xb231940>"
      ]
     },
     "metadata": {},
     "output_type": "display_data"
    }
   ],
   "source": [
    "import numpy as np\n",
    "import scipy\n",
    "from scipy.misc import imread, imsave, imresize\n",
    "import skimage\n",
    "from skimage import data\n",
    "from matplotlib import pyplot as plt\n",
    "from skimage.util.shape import view_as_blocks\n",
    "from skimage.transform import rescale, resize, downscale_local_mean\n",
    "from skimage import feature\n",
    "from skimage.transform import warp, AffineTransform\n",
    "from skimage import io\n",
    "%matplotlib inline\n",
    "from PIL import Image\n",
    "\n",
    "img = np.array(Image.open('checkerboard.png').convert('L'))\n",
    "# img =io.imread('checkerboard.png')\n",
    "image=skimage.color.rgb2gray(img)\n",
    "plt.imshow(image,cmap='gray')\n",
    "plt.show()\n",
    "\n"
   ]
  },
  {
   "cell_type": "code",
   "execution_count": 200,
   "metadata": {},
   "outputs": [
    {
     "name": "stdout",
     "output_type": "stream",
     "text": [
      "[]\n",
      "[]\n",
      "++++++++++++++++++++++\n",
      "[ 25  28  32  36  39  42  46  49  54  55  62  64  68  69  71  77  78  78\n",
      "  80  88  92  93  95  99 102 103 104 111 112 118 119 123 131 132 132 135\n",
      " 136 143 147 149 150 157 157 158 164 166 167 174 178 181 185 185 187 187\n",
      " 190 197 198 201 204 212 212 212 218 219 221 225 228 232 235 240 242 243\n",
      " 247 251 254 258 261 265 300 300 301 301 310 310 316 316 318 318]\n",
      "[ 19  47  74 102 128 156 183 209  65  41  96 117 174 150 196  28  56 228\n",
      "  77 108 164 141 187 219  45 244  68 122  98 177 153 209 240  63 263 112\n",
      "  89 143 175 221 198  80 252 280 111 157 134 188 220 243  98 275 125 298\n",
      " 148 202 179 234 257 115 288 314 170 147 193 225 247 279 302 133 333 160\n",
      " 186 215 241 269 295 324 130 220 114 236  76 274 105 245 133 217]\n"
     ]
    }
   ],
   "source": [
    "# rows =3\n",
    "# columns= 2\n",
    "# mylist = [[0 for x in range(columns)] for x in range(rows)]\n",
    "# for i in range(rows):\n",
    "#     for j in range(columns):\n",
    "#         mylist[i][j] = '%s,%s'%(i,j)\n",
    "# print mylist\n",
    "\n",
    "\n",
    "\n",
    "\n",
    "\n",
    "\n",
    "\n",
    "\n",
    "\n",
    "Sigma = 0\n",
    "rows =7\n",
    "mycoords=[rows]\n",
    "for i in range(rows):\n",
    "    mycoords.append([feature.corner_peaks(feature.corner_harris(image,sigma=Sigma), min_distance=12,threshold_rel=0)])\n",
    "    Sigma = 0.2 + Sigma\n",
    "#     print ' i : %d , Sigma : %f ' % (i,Sigma\n",
    "# k : float, optional \n",
    "# Sensitivity factor to separate corners from edges, typically in range [0, 0.2].\n",
    "# Small values of k result in detection of sharp corners.  \n",
    "# method : {‘k’, ‘eps’}, optional\n",
    "# Method to compute the response image from the auto-correlation matrix.\n",
    "#     mycoords.append([feature.corner_peaks(feature.corner_harris(image,method='k',k=1,sigma=sigma), min_distance=12,threshold_rel=0)])\n",
    " \n",
    "\n",
    "\n",
    "print mycoords [1][0][:][:,0]\n",
    "print mycoords [1][0][:][:,1]\n",
    "print '++++++++++++++++++++++'\n",
    "print mycoords [6][0][:][:,0]\n",
    "print mycoords [6][0][:][:,1]"
   ]
  },
  {
   "cell_type": "code",
   "execution_count": 201,
   "metadata": {},
   "outputs": [
    {
     "data": {
      "image/png": "[encoded data removed]",
      "text/plain": [
       "<matplotlib.figure.Figure at 0xb2319b0>"
      ]
     },
     "metadata": {},
     "output_type": "display_data"
    }
   ],
   "source": [
    "\n",
    "def plot_coords(index, title, im, coords):\n",
    "    plt.subplot(index)\n",
    "    plt.imshow(image)\n",
    "#   plt.plot(mycoords[1][:, 1], mycoords[1][:, 0], '+r', markersize=5)\n",
    "#     plt.plot( mycoords[1][0][:][:,1],mycoords[1][0][:][:,0], '+r', markersize=5)\n",
    "    plt.plot( mycoords[6][0][:][:,1],mycoords[6][0][:][:,0], '+r', markersize=6)\n",
    "    plt.title(title)\n",
    "    plt.axis('off')\n",
    "\n",
    "plt.gray()\n",
    "index = 111\n",
    "plot_coords(index, '', image, mycoords)\n",
    "# plt.tight_layout(w_pad=0)\n",
    "plt.show()"
   ]
  },
  {
   "cell_type": "code",
   "execution_count": null,
   "metadata": {
    "collapsed": true
   },
   "outputs": [],
   "source": []
  }
 ],
 "metadata": {
  "kernelspec": {
   "display_name": "Python 2",
   "language": "python",
   "name": "python2"
  },
  "language_info": {
   "codemirror_mode": {
    "name": "ipython",
    "version": 2
   },
   "file_extension": ".py",
   "mimetype": "text/x-python",
   "name": "python",
   "nbconvert_exporter": "python",
   "pygments_lexer": "ipython2",
   "version": "2.7.13"
  }
 },
 "nbformat": 4,
 "nbformat_minor": 2
}
